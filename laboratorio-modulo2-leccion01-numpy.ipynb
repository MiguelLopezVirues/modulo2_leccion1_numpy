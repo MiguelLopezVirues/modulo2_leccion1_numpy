{
 "cells": [
  {
   "cell_type": "markdown",
   "id": "6db588db",
   "metadata": {},
   "source": [
    "<div style=\"text-align: center;\">\n",
    "  <img src=\"https://github.com/Hack-io-Data/Imagenes/blob/main/01-LogosHackio/logo_naranja@4x.png?raw=true\" alt=\"esquema\" />\n",
    "</div>"
   ]
  },
  {
   "cell_type": "markdown",
   "id": "11308d6c",
   "metadata": {},
   "source": [
    "\n",
    "# Laboratorio de NumPy"
   ]
  },
  {
   "cell_type": "code",
   "execution_count": 1,
   "id": "dc238275",
   "metadata": {},
   "outputs": [],
   "source": [
    "import numpy as np"
   ]
  },
  {
   "cell_type": "markdown",
   "id": "a19d4596",
   "metadata": {},
   "source": [
    "#### Ejercicio 1 - Crea un array de 1D con los números del 0 al 9."
   ]
  },
  {
   "cell_type": "code",
   "execution_count": 4,
   "id": "9d4e1d42",
   "metadata": {},
   "outputs": [
    {
     "data": {
      "text/plain": [
       "array([0, 1, 2, 3, 4, 5, 6, 7, 8, 9])"
      ]
     },
     "execution_count": 4,
     "metadata": {},
     "output_type": "execute_result"
    }
   ],
   "source": [
    "array1 = np.arange(0,10)\n",
    "array1"
   ]
  },
  {
   "cell_type": "markdown",
   "id": "f4a41f16",
   "metadata": {},
   "source": [
    "#### Ejercicio 2 - Convierte un array 1D en un array 2D con 2 filas y 5 columnas."
   ]
  },
  {
   "cell_type": "code",
   "execution_count": 5,
   "id": "3d7cef3c",
   "metadata": {},
   "outputs": [
    {
     "data": {
      "text/plain": [
       "array([[0, 1, 2, 3, 4],\n",
       "       [5, 6, 7, 8, 9]])"
      ]
     },
     "execution_count": 5,
     "metadata": {},
     "output_type": "execute_result"
    }
   ],
   "source": [
    "array1.reshape(2,5)"
   ]
  },
  {
   "cell_type": "markdown",
   "id": "86bb8999",
   "metadata": {},
   "source": [
    "#### Ejercicio 3 - Encuentra los índices de los elementos con valor distinto de 0 en el siguiente array: [0, 2, 0, 3, 0, 4, 0]."
   ]
  },
  {
   "cell_type": "code",
   "execution_count": 18,
   "id": "d1fcfca4",
   "metadata": {},
   "outputs": [
    {
     "data": {
      "text/plain": [
       "(array([1, 3, 5], dtype=int64),)"
      ]
     },
     "execution_count": 18,
     "metadata": {},
     "output_type": "execute_result"
    }
   ],
   "source": [
    "array3 = [0,2,0,3,0,4,0]\n",
    "np.where(array3)"
   ]
  },
  {
   "cell_type": "markdown",
   "id": "1c548419",
   "metadata": {},
   "source": [
    "#### Ejercicio 4 - Crea un array 3x3 con valores aleatorios entre 0 y 1."
   ]
  },
  {
   "cell_type": "code",
   "execution_count": 23,
   "id": "e1d4f19f",
   "metadata": {},
   "outputs": [
    {
     "data": {
      "text/plain": [
       "array([[0.5394045 , 0.27097007, 0.47288207],\n",
       "       [0.77796548, 0.40616144, 0.70336822],\n",
       "       [0.15645694, 0.71459638, 0.23098423]])"
      ]
     },
     "execution_count": 23,
     "metadata": {},
     "output_type": "execute_result"
    }
   ],
   "source": [
    "array4 = np.random.rand(3,3)\n",
    "array4"
   ]
  },
  {
   "cell_type": "markdown",
   "id": "aee82811",
   "metadata": {},
   "source": [
    "#### Ejercicio 5 - Crea un array de 10 números aleatorios y encuentra el valor máximo y mínimo."
   ]
  },
  {
   "cell_type": "code",
   "execution_count": 28,
   "id": "81fea76e",
   "metadata": {},
   "outputs": [
    {
     "name": "stdout",
     "output_type": "stream",
     "text": [
      "Max 96.95544347091949. Min: 1.2020441047285835\n"
     ]
    }
   ],
   "source": [
    "array5 = np.random.rand(10)*100\n",
    "print(f\"Max {np.max(array5)}. Min: {np.min(array5)}\")"
   ]
  },
  {
   "cell_type": "markdown",
   "id": "6559375b",
   "metadata": {},
   "source": [
    "#### Ejercicio 6 - Crea un array de una dimensión e inviértelo. "
   ]
  },
  {
   "cell_type": "code",
   "execution_count": 39,
   "id": "31385db0",
   "metadata": {},
   "outputs": [
    {
     "data": {
      "text/plain": [
       "array([0.71419654, 0.59783423, 0.70174559, 0.11934445, 0.71939116,\n",
       "       0.97987527, 0.53294993, 0.12635007, 0.20708002, 0.5442691 ])"
      ]
     },
     "metadata": {},
     "output_type": "display_data"
    },
    {
     "data": {
      "text/plain": [
       "array([0.5442691 , 0.20708002, 0.12635007, 0.53294993, 0.97987527,\n",
       "       0.71939116, 0.11934445, 0.70174559, 0.59783423, 0.71419654])"
      ]
     },
     "metadata": {},
     "output_type": "display_data"
    }
   ],
   "source": [
    "array6 = np.random.rand(10)\n",
    "display(array6)\n",
    "display(array6[::-1])"
   ]
  },
  {
   "cell_type": "markdown",
   "id": "4457f046",
   "metadata": {},
   "source": [
    "\n",
    "#### Ejercicio 6 - Genera un array tridimensional de dimensiones (2, 3, 4) con valores enteros del 1 al 24.\n",
    "\n",
    "- Selecciona el primer `15` del array.\n",
    "\n",
    "- Selecciona todos los elementos del primer array. \n",
    "\n",
    "- Selecciona la última fila del último array\n"
   ]
  },
  {
   "cell_type": "code",
   "execution_count": 50,
   "id": "3cab04c9",
   "metadata": {},
   "outputs": [
    {
     "data": {
      "text/plain": [
       "array([[[ 3, 19, 13,  6],\n",
       "        [ 9, 18, 23,  8],\n",
       "        [13,  4, 17,  2]],\n",
       "\n",
       "       [[19, 16, 13, 15],\n",
       "        [16,  6,  1, 10],\n",
       "        [ 2,  3,  5,  6]]])"
      ]
     },
     "execution_count": 50,
     "metadata": {},
     "output_type": "execute_result"
    }
   ],
   "source": [
    "array6 = np.random.randint(1,24,(2,3,4))\n",
    "array6"
   ]
  },
  {
   "cell_type": "markdown",
   "id": "151ed046",
   "metadata": {},
   "source": [
    "Seleccionar el primer 15"
   ]
  },
  {
   "cell_type": "code",
   "execution_count": 51,
   "id": "17fd4cc9",
   "metadata": {},
   "outputs": [
    {
     "data": {
      "text/plain": [
       "15"
      ]
     },
     "execution_count": 51,
     "metadata": {},
     "output_type": "execute_result"
    }
   ],
   "source": [
    "array6[array6 == 15][0]"
   ]
  },
  {
   "cell_type": "markdown",
   "id": "499292b6",
   "metadata": {},
   "source": [
    "Selecciona todos los elementos del primer array"
   ]
  },
  {
   "cell_type": "code",
   "execution_count": 53,
   "id": "85632616",
   "metadata": {},
   "outputs": [
    {
     "data": {
      "text/plain": [
       "array([[ 3, 19, 13,  6],\n",
       "       [ 9, 18, 23,  8],\n",
       "       [13,  4, 17,  2]])"
      ]
     },
     "execution_count": 53,
     "metadata": {},
     "output_type": "execute_result"
    }
   ],
   "source": [
    "array6[0,:,:]"
   ]
  },
  {
   "cell_type": "markdown",
   "id": "bbe397a8",
   "metadata": {},
   "source": [
    "Selecciona la última fila del último array"
   ]
  },
  {
   "cell_type": "code",
   "execution_count": 61,
   "id": "607ccaed",
   "metadata": {},
   "outputs": [
    {
     "data": {
      "text/plain": [
       "array([2, 3, 5, 6])"
      ]
     },
     "execution_count": 61,
     "metadata": {},
     "output_type": "execute_result"
    }
   ],
   "source": [
    "array6[-1,-1,:]"
   ]
  },
  {
   "cell_type": "markdown",
   "id": "681b7e4e",
   "metadata": {},
   "source": [
    "\n",
    "#### Ejercicio 7 - Genera un array tridimensional de dimensiones (3, 2, 5) con valores enteros del 1 al 30.\n",
    "\n",
    "- Selecciona el subarray que contiene los dos primeros elementos de cada fila del primer array.\n",
    "\n",
    "- Selecciona el subarray que contiene todas las filas de los dos últimos arrays.\n"
   ]
  },
  {
   "cell_type": "code",
   "execution_count": 56,
   "id": "b008a9aa",
   "metadata": {},
   "outputs": [
    {
     "data": {
      "text/plain": [
       "array([[[21,  3, 26, 28, 22],\n",
       "        [20, 12, 22, 28, 13],\n",
       "        [28,  4,  7,  2, 29]],\n",
       "\n",
       "       [[18, 13, 21,  7,  2],\n",
       "        [ 9, 21, 24,  4, 13],\n",
       "        [27, 17, 18, 18,  4]]])"
      ]
     },
     "execution_count": 56,
     "metadata": {},
     "output_type": "execute_result"
    }
   ],
   "source": [
    "array7 = np.random.randint(1,30,(2,3,5))\n",
    "array7"
   ]
  },
  {
   "cell_type": "markdown",
   "id": "454aec5f",
   "metadata": {},
   "source": [
    "\n",
    "- Selecciona el subarray que contiene los dos primeros elementos de cada fila del primer array.\n"
   ]
  },
  {
   "cell_type": "code",
   "execution_count": 62,
   "id": "5814317e",
   "metadata": {},
   "outputs": [
    {
     "data": {
      "text/plain": [
       "array([[21,  3],\n",
       "       [20, 12],\n",
       "       [28,  4]])"
      ]
     },
     "execution_count": 62,
     "metadata": {},
     "output_type": "execute_result"
    }
   ],
   "source": [
    "array7[0,:,:2]"
   ]
  },
  {
   "cell_type": "markdown",
   "id": "26ad4164",
   "metadata": {},
   "source": [
    "\n",
    "- Selecciona el subarray que contiene todas las filas de los dos últimos arrays."
   ]
  },
  {
   "cell_type": "code",
   "execution_count": 63,
   "id": "06cbd308",
   "metadata": {},
   "outputs": [
    {
     "data": {
      "text/plain": [
       "array([[[21,  3, 26, 28, 22],\n",
       "        [20, 12, 22, 28, 13],\n",
       "        [28,  4,  7,  2, 29]],\n",
       "\n",
       "       [[18, 13, 21,  7,  2],\n",
       "        [ 9, 21, 24,  4, 13],\n",
       "        [27, 17, 18, 18,  4]]])"
      ]
     },
     "execution_count": 63,
     "metadata": {},
     "output_type": "execute_result"
    }
   ],
   "source": [
    "array7[-2:,:,:]"
   ]
  },
  {
   "cell_type": "markdown",
   "id": "4fabd9d0",
   "metadata": {},
   "source": [
    "#### Ejercicio 8 - Genera un array tridimensional de dimensiones (4, 3, 2) con valores enteros del 1 al 24.\n",
    "\n",
    "- Cambia todos los elementos de la segunda fila del segundo array por `0`.\n",
    "\n",
    "- Cambia todos los valores del último array a `-1`.\n"
   ]
  },
  {
   "cell_type": "code",
   "execution_count": 66,
   "id": "0ef45b69",
   "metadata": {},
   "outputs": [
    {
     "data": {
      "text/plain": [
       "array([[[15,  1],\n",
       "        [16, 12],\n",
       "        [13,  1]],\n",
       "\n",
       "       [[ 3,  5],\n",
       "        [ 5,  3],\n",
       "        [10,  9]],\n",
       "\n",
       "       [[14, 10],\n",
       "        [18, 16],\n",
       "        [ 7, 19]],\n",
       "\n",
       "       [[22,  3],\n",
       "        [11, 23],\n",
       "        [14,  2]]])"
      ]
     },
     "execution_count": 66,
     "metadata": {},
     "output_type": "execute_result"
    }
   ],
   "source": [
    "array8 = np.random.randint(1,24,(4,3,2))\n",
    "array8"
   ]
  },
  {
   "cell_type": "markdown",
   "id": "6e0eb7a5",
   "metadata": {},
   "source": [
    "- Cambia todos los elementos de la segunda fila del segundo array por `0`."
   ]
  },
  {
   "cell_type": "code",
   "execution_count": 67,
   "id": "bc196362",
   "metadata": {},
   "outputs": [
    {
     "data": {
      "text/plain": [
       "array([[[15,  1],\n",
       "        [16, 12],\n",
       "        [13,  1]],\n",
       "\n",
       "       [[ 3,  5],\n",
       "        [ 8,  8],\n",
       "        [10,  9]],\n",
       "\n",
       "       [[14, 10],\n",
       "        [18, 16],\n",
       "        [ 7, 19]],\n",
       "\n",
       "       [[22,  3],\n",
       "        [11, 23],\n",
       "        [14,  2]]])"
      ]
     },
     "execution_count": 67,
     "metadata": {},
     "output_type": "execute_result"
    }
   ],
   "source": [
    "array8[1,1,:] = 8\n",
    "array8"
   ]
  },
  {
   "cell_type": "markdown",
   "id": "8b094b69",
   "metadata": {},
   "source": [
    "\n",
    "- Cambia todos los valores del último array a `-1`."
   ]
  },
  {
   "cell_type": "code",
   "execution_count": 68,
   "id": "8180572e",
   "metadata": {},
   "outputs": [
    {
     "data": {
      "text/plain": [
       "array([[[15,  1],\n",
       "        [16, 12],\n",
       "        [13,  1]],\n",
       "\n",
       "       [[ 3,  5],\n",
       "        [ 8,  8],\n",
       "        [10,  9]],\n",
       "\n",
       "       [[14, 10],\n",
       "        [18, 16],\n",
       "        [ 7, 19]],\n",
       "\n",
       "       [[-1, -1],\n",
       "        [-1, -1],\n",
       "        [-1, -1]]])"
      ]
     },
     "execution_count": 68,
     "metadata": {},
     "output_type": "execute_result"
    }
   ],
   "source": [
    "array8[-1,:,:] = -1\n",
    "array8"
   ]
  },
  {
   "cell_type": "markdown",
   "id": "c60bc3bb",
   "metadata": {},
   "source": [
    "\n",
    "#### Ejercicio 9 - Genera un array tridimensional de dimensiones (2, 4, 3) con valores enteros del -10 al 13.\n",
    "\n",
    "- Selecciona todos los elementos mayores a `5`.\n",
    "\n",
    "- Reemplaza todos los elementos negativos por `0`.\n"
   ]
  },
  {
   "cell_type": "code",
   "execution_count": 69,
   "id": "28bf9232",
   "metadata": {},
   "outputs": [
    {
     "data": {
      "text/plain": [
       "array([[[ -8,   5,   0],\n",
       "        [  4,  -6,  -3],\n",
       "        [  0, -10,   2],\n",
       "        [  1,   4,  -9]],\n",
       "\n",
       "       [[  6,  -8,   4],\n",
       "        [  4,  -8,  -5],\n",
       "        [  3,  10,  -9],\n",
       "        [  1,  -1,  10]]])"
      ]
     },
     "execution_count": 69,
     "metadata": {},
     "output_type": "execute_result"
    }
   ],
   "source": [
    "array9 = np.random.randint(-10,13,(2,4,3))\n",
    "array9"
   ]
  },
  {
   "cell_type": "markdown",
   "id": "06013693",
   "metadata": {},
   "source": [
    "- Selecciona todos los elementos mayores a `5`."
   ]
  },
  {
   "cell_type": "code",
   "execution_count": 70,
   "id": "2e548b3c",
   "metadata": {},
   "outputs": [
    {
     "data": {
      "text/plain": [
       "array([ 6, 10, 10])"
      ]
     },
     "execution_count": 70,
     "metadata": {},
     "output_type": "execute_result"
    }
   ],
   "source": [
    "array9[array9 > 5]"
   ]
  },
  {
   "cell_type": "markdown",
   "id": "86ccd17c",
   "metadata": {},
   "source": [
    "\n",
    "- Reemplaza todos los elementos negativos por `0`.\n"
   ]
  },
  {
   "cell_type": "code",
   "execution_count": 71,
   "id": "ff421377",
   "metadata": {},
   "outputs": [
    {
     "data": {
      "text/plain": [
       "array([[[ 0,  5,  0],\n",
       "        [ 4,  0,  0],\n",
       "        [ 0,  0,  2],\n",
       "        [ 1,  4,  0]],\n",
       "\n",
       "       [[ 6,  0,  4],\n",
       "        [ 4,  0,  0],\n",
       "        [ 3, 10,  0],\n",
       "        [ 1,  0, 10]]])"
      ]
     },
     "execution_count": 71,
     "metadata": {},
     "output_type": "execute_result"
    }
   ],
   "source": [
    "array9[array9 < 0] = 0\n",
    "array9"
   ]
  },
  {
   "cell_type": "markdown",
   "id": "ab38a3be",
   "metadata": {},
   "source": [
    "#### Ejercicio 10 - Genera un array tridimensional de dimensiones (3, 3, 3) con valores enteros del 1 al 27.\n",
    "\n",
    "- Selecciona el subarray del segundo array que contenga solo las dos primeras columnas.\n",
    "\n",
    "- Selecciona todos los elementos del tercer array que sean mayores que `20`.\n"
   ]
  },
  {
   "cell_type": "code",
   "execution_count": 73,
   "id": "78c979cf",
   "metadata": {},
   "outputs": [
    {
     "data": {
      "text/plain": [
       "array([[[ 3, 17,  6],\n",
       "        [ 2,  9, 15],\n",
       "        [ 8, 21, 23]],\n",
       "\n",
       "       [[ 8, 16, 23],\n",
       "        [23, 19, 14],\n",
       "        [ 7,  5, 16]],\n",
       "\n",
       "       [[13, 13,  3],\n",
       "        [22,  8,  8],\n",
       "        [ 2,  4, 11]]])"
      ]
     },
     "execution_count": 73,
     "metadata": {},
     "output_type": "execute_result"
    }
   ],
   "source": [
    "array10 = np.random.randint(1,27,(3,3,3))\n",
    "array10"
   ]
  },
  {
   "cell_type": "markdown",
   "id": "8f25955d",
   "metadata": {},
   "source": [
    "- Selecciona el subarray del segundo array que contenga solo las dos primeras columnas."
   ]
  },
  {
   "cell_type": "code",
   "execution_count": 74,
   "id": "079e01f1",
   "metadata": {},
   "outputs": [
    {
     "data": {
      "text/plain": [
       "array([[ 8, 16],\n",
       "       [23, 19],\n",
       "       [ 7,  5]])"
      ]
     },
     "execution_count": 74,
     "metadata": {},
     "output_type": "execute_result"
    }
   ],
   "source": [
    "array10[1,:,:2]"
   ]
  },
  {
   "cell_type": "markdown",
   "id": "a44e00b4",
   "metadata": {},
   "source": [
    "- Selecciona todos los elementos del tercer array que sean mayores que `20`."
   ]
  },
  {
   "cell_type": "code",
   "execution_count": 79,
   "id": "4e4af178",
   "metadata": {},
   "outputs": [
    {
     "data": {
      "text/plain": [
       "array([22])"
      ]
     },
     "execution_count": 79,
     "metadata": {},
     "output_type": "execute_result"
    }
   ],
   "source": [
    "array10[2,:,:][array10[2,:,:]>20]"
   ]
  },
  {
   "cell_type": "markdown",
   "id": "f1a00156",
   "metadata": {},
   "source": [
    "#### Ejercicio 11 - Crea un array de 10 números aleatorios y reemplaza los valores máximos y mínimos por 0."
   ]
  },
  {
   "cell_type": "code",
   "execution_count": 28,
   "id": "990fa526",
   "metadata": {},
   "outputs": [
    {
     "data": {
      "text/plain": [
       "array([78, 94, 24, 32, 20, 75, 74, 30, 79, 73])"
      ]
     },
     "execution_count": 28,
     "metadata": {},
     "output_type": "execute_result"
    }
   ],
   "source": [
    "array11 = np.random.randint(1,100,10)\n",
    "array11"
   ]
  },
  {
   "cell_type": "code",
   "execution_count": 29,
   "id": "24db647e",
   "metadata": {},
   "outputs": [
    {
     "data": {
      "text/plain": [
       "array([78,  0, 24, 32,  0, 75, 74, 30, 79, 73])"
      ]
     },
     "execution_count": 29,
     "metadata": {},
     "output_type": "execute_result"
    }
   ],
   "source": [
    "array11[array11 == np.min(array11)] = 0\n",
    "array11[array11 == np.max(array11)] = 0\n",
    "array11"
   ]
  },
  {
   "cell_type": "markdown",
   "id": "781fafd0",
   "metadata": {},
   "source": [
    "#### Ejercicio 12 - Genera un array de 15 números aleatorios enteros entre 1 y 100 y reordénalo en orden ascendente."
   ]
  },
  {
   "cell_type": "code",
   "execution_count": 86,
   "id": "caa4fd47",
   "metadata": {},
   "outputs": [
    {
     "data": {
      "text/plain": [
       "array([93, 86, 79, 74, 74, 73, 69, 67, 66, 57, 56, 24, 24, 22, 13])"
      ]
     },
     "execution_count": 86,
     "metadata": {},
     "output_type": "execute_result"
    }
   ],
   "source": [
    "array12 = np.random.randint(1,100,(15))\n",
    "np.sort(array12)[::-1]"
   ]
  },
  {
   "cell_type": "markdown",
   "id": "45f10c3e",
   "metadata": {},
   "source": [
    "#### Ejercicio 11 - Calcula la suma de los elementos a lo largo de las filas y columnas en una matriz 4x4."
   ]
  },
  {
   "cell_type": "code",
   "execution_count": 87,
   "id": "90220788",
   "metadata": {},
   "outputs": [
    {
     "data": {
      "text/plain": [
       "746"
      ]
     },
     "execution_count": 87,
     "metadata": {},
     "output_type": "execute_result"
    }
   ],
   "source": [
    "array11 = np.random.randint(1,100,(4,4))\n",
    "np.sum(array11)"
   ]
  },
  {
   "cell_type": "markdown",
   "id": "69b9751a",
   "metadata": {},
   "source": [
    "#### Ejercicio 12 - Crea una matriz de 5x5 con valores en el borde igual a 1 y en el interior igual a 0."
   ]
  },
  {
   "cell_type": "code",
   "execution_count": 89,
   "id": "eca81323",
   "metadata": {},
   "outputs": [
    {
     "data": {
      "text/plain": [
       "array([[1., 1., 1., 1., 1.],\n",
       "       [1., 0., 0., 0., 1.],\n",
       "       [1., 0., 0., 0., 1.],\n",
       "       [1., 0., 0., 0., 1.],\n",
       "       [1., 1., 1., 1., 1.]])"
      ]
     },
     "execution_count": 89,
     "metadata": {},
     "output_type": "execute_result"
    }
   ],
   "source": [
    "array12 = np.ones((5,5))\n",
    "array12[1:4,1:4]=0\n",
    "array12"
   ]
  },
  {
   "cell_type": "markdown",
   "id": "1ea8068d",
   "metadata": {},
   "source": [
    "#### Ejercicio 13 - Calcula la media y la desviación estándar de un array de 10 números aleatorios."
   ]
  },
  {
   "cell_type": "code",
   "execution_count": 32,
   "id": "05dd579d",
   "metadata": {},
   "outputs": [
    {
     "data": {
      "text/plain": [
       "array([47.28071261, 47.67187543, 51.02802955, 50.221171  , 49.31724107,\n",
       "       51.38691995, 43.54383331, 45.74530764, 49.71852653, 44.90321777])"
      ]
     },
     "execution_count": 32,
     "metadata": {},
     "output_type": "execute_result"
    }
   ],
   "source": [
    "array13 = np.random.randn(10)*5 + 50\n",
    "array13"
   ]
  },
  {
   "cell_type": "code",
   "execution_count": 33,
   "id": "870e3fac",
   "metadata": {},
   "outputs": [
    {
     "data": {
      "text/plain": [
       "48.08168348635138"
      ]
     },
     "metadata": {},
     "output_type": "display_data"
    },
    {
     "data": {
      "text/plain": [
       "2.5563975690442766"
      ]
     },
     "execution_count": 33,
     "metadata": {},
     "output_type": "execute_result"
    }
   ],
   "source": [
    "display(np.mean(array13))\n",
    "np.std(array13)"
   ]
  },
  {
   "cell_type": "markdown",
   "id": "6add6669",
   "metadata": {},
   "source": [
    "#### Ejercicio 14 - Genera un array tridimensional de dimensiones (2, 3, 4) con valores enteros del 1 al 24.\n",
    "\n",
    "- Transpón el array para intercambiar los ejes de la forma (2, 3, 4) a (4, 3, 2).\n"
   ]
  },
  {
   "cell_type": "code",
   "execution_count": 103,
   "id": "2a317895",
   "metadata": {},
   "outputs": [
    {
     "data": {
      "text/plain": [
       "array([[[11,  5,  5, 20],\n",
       "        [20, 14, 10,  6],\n",
       "        [21, 12, 14, 12]],\n",
       "\n",
       "       [[ 3, 15, 10,  8],\n",
       "        [17, 10, 20, 17],\n",
       "        [23,  5, 22, 19]]])"
      ]
     },
     "execution_count": 103,
     "metadata": {},
     "output_type": "execute_result"
    }
   ],
   "source": [
    "array14 = np.random.randint(1,24,(2,3,4))\n",
    "array14"
   ]
  },
  {
   "cell_type": "code",
   "execution_count": 106,
   "id": "7ebf2856",
   "metadata": {},
   "outputs": [
    {
     "data": {
      "text/plain": [
       "array([[[11,  3],\n",
       "        [20, 17],\n",
       "        [21, 23]],\n",
       "\n",
       "       [[ 5, 15],\n",
       "        [14, 10],\n",
       "        [12,  5]],\n",
       "\n",
       "       [[ 5, 10],\n",
       "        [10, 20],\n",
       "        [14, 22]],\n",
       "\n",
       "       [[20,  8],\n",
       "        [ 6, 17],\n",
       "        [12, 19]]])"
      ]
     },
     "execution_count": 106,
     "metadata": {},
     "output_type": "execute_result"
    }
   ],
   "source": [
    "np.transpose(array14)"
   ]
  },
  {
   "cell_type": "markdown",
   "id": "ccdf3f2f",
   "metadata": {},
   "source": [
    "\n",
    "- Observa cómo cambian las posiciones de los elementos y sus índices después de la transposición. Explica en una celda de markdown que es lo que ha pasado. \n"
   ]
  },
  {
   "cell_type": "markdown",
   "id": "2222fbe3",
   "metadata": {},
   "source": [
    "Transponiendo el array e invirtiendo el orden de sus ejes, las matrices pasan de 2 a 4, las filas siendo el punto de pivote quedan igual y las columnas pasan de 2 a 4."
   ]
  },
  {
   "cell_type": "markdown",
   "id": "1e32b5e6",
   "metadata": {},
   "source": [
    "#### Ejercicio 15 - Genera un array tridimensional de dimensiones (3, 4, 2) con valores enteros del 1 al 24.\n",
    "\n",
    "- Transpón el array para intercambiar el primer y segundo eje, de manera que la nueva forma del array sea (4, 3, 2).\n"
   ]
  },
  {
   "cell_type": "code",
   "execution_count": 109,
   "id": "0146fdd6",
   "metadata": {},
   "outputs": [
    {
     "data": {
      "text/plain": [
       "array([[[ 9, 19],\n",
       "        [12, 14],\n",
       "        [15,  7],\n",
       "        [ 2,  7]],\n",
       "\n",
       "       [[ 4, 16],\n",
       "        [20,  1],\n",
       "        [23,  3],\n",
       "        [14, 14]],\n",
       "\n",
       "       [[ 4,  7],\n",
       "        [15, 11],\n",
       "        [ 6,  8],\n",
       "        [11, 17]]])"
      ]
     },
     "execution_count": 109,
     "metadata": {},
     "output_type": "execute_result"
    }
   ],
   "source": [
    "array15 = np.random.randint(1,24,(3,4,2))\n",
    "array15"
   ]
  },
  {
   "cell_type": "code",
   "execution_count": 110,
   "id": "400adff7",
   "metadata": {},
   "outputs": [
    {
     "data": {
      "text/plain": [
       "array([[[ 9, 19],\n",
       "        [ 4, 16],\n",
       "        [ 4,  7]],\n",
       "\n",
       "       [[12, 14],\n",
       "        [20,  1],\n",
       "        [15, 11]],\n",
       "\n",
       "       [[15,  7],\n",
       "        [23,  3],\n",
       "        [ 6,  8]],\n",
       "\n",
       "       [[ 2,  7],\n",
       "        [14, 14],\n",
       "        [11, 17]]])"
      ]
     },
     "execution_count": 110,
     "metadata": {},
     "output_type": "execute_result"
    }
   ],
   "source": [
    "np.transpose(array15,(1,0,2))"
   ]
  },
  {
   "cell_type": "markdown",
   "id": "fcf92586",
   "metadata": {},
   "source": [
    "#### Ejercicio 16 - Genera un array tridimensional de dimensiones (3, 2, 4) con valores enteros del 1 al 24.\n",
    "\n",
    "- Realiza una rotación completa de los ejes para convertir la forma original (3, 2, 4) en (4, 3, 2).\n"
   ]
  },
  {
   "cell_type": "code",
   "execution_count": 113,
   "id": "dd2c7f27",
   "metadata": {},
   "outputs": [
    {
     "data": {
      "text/plain": [
       "array([[[ 7, 13, 18,  2],\n",
       "        [18,  4, 18, 14]],\n",
       "\n",
       "       [[21, 20, 23,  9],\n",
       "        [14, 17,  3,  4]],\n",
       "\n",
       "       [[18, 14,  7, 22],\n",
       "        [ 1, 19,  5,  3]]])"
      ]
     },
     "execution_count": 113,
     "metadata": {},
     "output_type": "execute_result"
    }
   ],
   "source": [
    "array16 = np.random.randint(1,24,(3,2,4))\n",
    "array16"
   ]
  },
  {
   "cell_type": "code",
   "execution_count": 114,
   "id": "7ae6b556",
   "metadata": {},
   "outputs": [
    {
     "data": {
      "text/plain": [
       "array([[[ 7, 18],\n",
       "        [21, 14],\n",
       "        [18,  1]],\n",
       "\n",
       "       [[13,  4],\n",
       "        [20, 17],\n",
       "        [14, 19]],\n",
       "\n",
       "       [[18, 18],\n",
       "        [23,  3],\n",
       "        [ 7,  5]],\n",
       "\n",
       "       [[ 2, 14],\n",
       "        [ 9,  4],\n",
       "        [22,  3]]])"
      ]
     },
     "execution_count": 114,
     "metadata": {},
     "output_type": "execute_result"
    }
   ],
   "source": [
    "np.transpose(array16,(2,0,1))"
   ]
  },
  {
   "cell_type": "markdown",
   "id": "1795e11f",
   "metadata": {},
   "source": [
    "#### Ejercicio 17 - Manipulación de Arrays en 3D\n",
    "\n",
    "- Crea un array tridimensional con dimensiones (3, 4, 5) cuyos elementos sean números enteros aleatorios entre -10 y 10.\n",
    "\n",
    "- Crea un array vacío con la misma forma y dimensiones que el array creado anteriormente. Luego, reemplaza los valores de la matriz vacía basada en los valores del primer array bajo las siguientes condiciones:\n",
    "\n",
    "   - Si el valor es igual a la mediana, se reemplaza por `\"M\"`.\n",
    "\n",
    "   - Si el valor es mayor que la mediana, se reemplaza por `\"X\"`.\n",
    "\n",
    "   - Si el valor es menor que la mediana, se reemplaza por `\"Y\"`.\n",
    "\n",
    "   - Si el valor es igual al máximo, se reemplaza por `\"MAX\"`.\n",
    "\n",
    "   - Si el valor es igual al mínimo, se reemplaza por `\"MIN\"`.\n"
   ]
  },
  {
   "cell_type": "code",
   "execution_count": 5,
   "id": "d309b397",
   "metadata": {},
   "outputs": [
    {
     "data": {
      "text/plain": [
       "array([[[  5,  -4, -10,   3,  -2],\n",
       "        [  9,   5,  -3,  -2,  -5],\n",
       "        [  4,  -4,   0,  -9,  -9],\n",
       "        [ -7,  -9,  -7,  -3,   3]],\n",
       "\n",
       "       [[  5,   1,   7,   0,   8],\n",
       "        [  0,   6,   3,   0,  -2],\n",
       "        [  8,   4,   7,  -7,  -3],\n",
       "        [-10,  -9,  -6,  -1, -10]],\n",
       "\n",
       "       [[ -9,  -9,   8,  -5,   2],\n",
       "        [  3,   5,  -7,  -2,   6],\n",
       "        [  4,   6,   7,   6,  -6],\n",
       "        [ -7,  -3,  -5,   6,   4]]])"
      ]
     },
     "execution_count": 5,
     "metadata": {},
     "output_type": "execute_result"
    }
   ],
   "source": [
    "array17 = np.random.randint(-10,10,(3,4,5))\n",
    "array17"
   ]
  },
  {
   "cell_type": "code",
   "execution_count": 6,
   "id": "f6b6ee5c",
   "metadata": {},
   "outputs": [
    {
     "data": {
      "text/plain": [
       "array([[['', '', '', '', ''],\n",
       "        ['', '', '', '', ''],\n",
       "        ['', '', '', '', ''],\n",
       "        ['', '', '', '', '']],\n",
       "\n",
       "       [['', '', '', '', ''],\n",
       "        ['', '', '', '', ''],\n",
       "        ['', '', '', '', ''],\n",
       "        ['', '', '', '', '']],\n",
       "\n",
       "       [['', '', '', '', ''],\n",
       "        ['', '', '', '', ''],\n",
       "        ['', '', '', '', ''],\n",
       "        ['', '', '', '', '']]], dtype='>U100')"
      ]
     },
     "execution_count": 6,
     "metadata": {},
     "output_type": "execute_result"
    }
   ],
   "source": [
    "array17_empty = np.zeros((3,4,5),dtype=\">U100\")\n",
    "array17_empty"
   ]
  },
  {
   "cell_type": "markdown",
   "id": "73704275",
   "metadata": {},
   "source": [
    "   - Si el valor es igual a la mediana, se reemplaza por `\"M\"`.\n",
    "\n",
    "   - Si el valor es mayor que la mediana, se reemplaza por `\"X\"`.\n",
    "\n",
    "   - Si el valor es menor que la mediana, se reemplaza por `\"Y\"`.\n",
    "\n",
    "   - Si el valor es igual al máximo, se reemplaza por `\"MAX\"`.\n",
    "\n",
    "   - Si el valor es igual al mínimo, se reemplaza por `\"MIN\"`.\n"
   ]
  },
  {
   "cell_type": "code",
   "execution_count": 11,
   "id": "ac986d19",
   "metadata": {},
   "outputs": [
    {
     "data": {
      "text/plain": [
       "array([[['X', 'Y', 'MIN', 'X', 'Y'],\n",
       "        ['MAX', 'X', 'Y', 'Y', 'Y'],\n",
       "        ['X', 'Y', 'X', 'Y', 'Y'],\n",
       "        ['Y', 'Y', 'Y', 'Y', 'X']],\n",
       "\n",
       "       [['X', 'X', 'X', 'X', 'X'],\n",
       "        ['X', 'X', 'X', 'X', 'Y'],\n",
       "        ['X', 'X', 'X', 'Y', 'Y'],\n",
       "        ['MIN', 'Y', 'Y', 'Y', 'MIN']],\n",
       "\n",
       "       [['Y', 'Y', 'X', 'Y', 'X'],\n",
       "        ['X', 'X', 'Y', 'Y', 'X'],\n",
       "        ['X', 'X', 'X', 'X', 'Y'],\n",
       "        ['Y', 'Y', 'Y', 'X', 'X']]], dtype='<U3')"
      ]
     },
     "execution_count": 11,
     "metadata": {},
     "output_type": "execute_result"
    }
   ],
   "source": [
    "conditions = {\n",
    "    \"MIN\": array17 == np.min(array17),\n",
    "    \"MAX\": array17 == np.max(array17),\n",
    "    \"M\": array17 == np.median(array17),\n",
    "    \"X\": array17 > np.median(array17),\n",
    "    \"Y\": array17 < np.median(array17)\n",
    "}\n",
    "\n",
    "np.select(conditions.values(),conditions.keys())"
   ]
  },
  {
   "cell_type": "markdown",
   "id": "83794704",
   "metadata": {},
   "source": [
    "#### Ejercicio 18 - Verificación de Filas y Columnas Iguales\n",
    "\n",
    "Crea un array bidimensional de dimensiones 4x4, escribe un código para determinar si alguna fila es exactamente igual a alguna columna.\n",
    "\n",
    "**Reglas:**\n",
    "\n",
    "- No puedes usar funciones predefinidas de NumPy para comparar filas y columnas (`np.array_equal`, etc.).\n",
    "\n",
    "- Debes resolverlo con estructuras básicas de Python (bucles, condicionales, etc.).\n",
    "\n",
    "- Debes revisar si hay al menos una fila que coincida exactamente con alguna columna.\n",
    "\n",
    "**Pistas**:\n",
    "\n",
    "- Puedes recorrer cada fila y cada columna de la matriz usando bucles.\n",
    "\n",
    "- Para comparar una fila con una columna, puedes hacerlo elemento por elemento."
   ]
  },
  {
   "cell_type": "code",
   "execution_count": 147,
   "id": "afd51c60",
   "metadata": {},
   "outputs": [
    {
     "data": {
      "text/plain": [
       "array([[1, 0, 0, 0],\n",
       "       [1, 0, 0, 0],\n",
       "       [1, 1, 1, 1],\n",
       "       [1, 0, 0, 0]])"
      ]
     },
     "execution_count": 147,
     "metadata": {},
     "output_type": "execute_result"
    }
   ],
   "source": [
    "array18 = np.array([[1,0,0,0],[1,0,0,0],[1,1,1,1],[1,0,0,0]])\n",
    "array18"
   ]
  },
  {
   "cell_type": "code",
   "execution_count": 157,
   "id": "df4cdd9b",
   "metadata": {},
   "outputs": [
    {
     "name": "stdout",
     "output_type": "stream",
     "text": [
      "Lista de indices de filas y columnas coincidentes: [[2, 0]]\n"
     ]
    }
   ],
   "source": [
    "lista_iguales = []\n",
    "for n_fila, fila in enumerate(array18):\n",
    "    for n_columna, columna in enumerate(np.transpose(array18)):\n",
    "        if all(columna == fila):\n",
    "            lista_iguales.append([n_fila,n_columna])\n",
    "\n",
    "print(\"Lista de indices de filas y columnas coincidentes:\", lista_iguales)"
   ]
  },
  {
   "cell_type": "code",
   "execution_count": null,
   "id": "4cec1529",
   "metadata": {},
   "outputs": [],
   "source": []
  }
 ],
 "metadata": {
  "kernelspec": {
   "display_name": "maven_course",
   "language": "python",
   "name": "maven_course"
  },
  "language_info": {
   "codemirror_mode": {
    "name": "ipython",
    "version": 3
   },
   "file_extension": ".py",
   "mimetype": "text/x-python",
   "name": "python",
   "nbconvert_exporter": "python",
   "pygments_lexer": "ipython3",
   "version": "3.12.3"
  }
 },
 "nbformat": 4,
 "nbformat_minor": 5
}
